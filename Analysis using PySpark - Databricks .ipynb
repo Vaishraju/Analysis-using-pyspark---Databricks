{
 "cells": [
  {
   "cell_type": "markdown",
   "metadata": {
    "application/vnd.databricks.v1+cell": {
     "inputWidgets": {},
     "nuid": "cbb72766-38c3-47ab-bc9a-f7c4e3973b20",
     "showTitle": false,
     "title": ""
    }
   },
   "source": [
    "\n",
    "## Spark with Python in Databricks\n"
   ]
  },
  {
   "cell_type": "markdown",
   "metadata": {
    "application/vnd.databricks.v1+cell": {
     "inputWidgets": {},
     "nuid": "1e89d004-de7d-4e34-a457-944938defbcb",
     "showTitle": false,
     "title": ""
    }
   },
   "source": [
    "#### Load a data file"
   ]
  },
  {
   "cell_type": "code",
   "execution_count": 0,
   "metadata": {
    "application/vnd.databricks.v1+cell": {
     "inputWidgets": {},
     "nuid": "3f488a72-73ed-405c-9f73-4cb289837f54",
     "showTitle": false,
     "title": ""
    }
   },
   "outputs": [
    {
     "data": {
      "text/plain": [
       "Out[23]: 1470"
      ]
     },
     "metadata": {
      "application/vnd.databricks.v1+output": {
       "addedWidgets": {},
       "arguments": {},
       "data": "Out[23]: 1470",
       "datasetInfos": [],
       "metadata": {},
       "removedWidgets": [],
       "type": "ansi"
      }
     },
     "output_type": "display_data"
    }
   ],
   "source": [
    "df1 = spark.read.format(\"csv\").option(\"header\", \"true\").load(\"dbfs:/FileStore/shared_uploads/vrajuech@gmu.edu/EmployeeAttrition_11__1_-2.csv\")\n",
    "\n",
    "df1.count()"
   ]
  },
  {
   "cell_type": "markdown",
   "metadata": {
    "application/vnd.databricks.v1+cell": {
     "inputWidgets": {},
     "nuid": "b9d718f2-7c67-4a9a-9162-a21f0f594529",
     "showTitle": false,
     "title": ""
    }
   },
   "source": [
    "#####  Counting the employees whose TotalWorkingYears are greater than 20."
   ]
  },
  {
   "cell_type": "code",
   "execution_count": 0,
   "metadata": {
    "application/vnd.databricks.v1+cell": {
     "inputWidgets": {},
     "nuid": "ba39c641-d1b1-449e-b8c3-8efd1ff81fa5",
     "showTitle": false,
     "title": ""
    }
   },
   "outputs": [
    {
     "data": {
      "text/plain": [
       "Out[24]: 207"
      ]
     },
     "metadata": {
      "application/vnd.databricks.v1+output": {
       "addedWidgets": {},
       "arguments": {},
       "data": "Out[24]: 207",
       "datasetInfos": [],
       "metadata": {},
       "removedWidgets": [],
       "type": "ansi"
      }
     },
     "output_type": "display_data"
    }
   ],
   "source": [
    "df1.filter(df1.TotalWorkingYears > 20).count()"
   ]
  },
  {
   "cell_type": "markdown",
   "metadata": {
    "application/vnd.databricks.v1+cell": {
     "inputWidgets": {},
     "nuid": "6478e1fc-5239-4c59-898f-b6f1458ba764",
     "showTitle": false,
     "title": ""
    }
   },
   "source": [
    "##### Finding EmployeeNumber, EducationField, JobRole for all the employees whose Age is between 25 and 30 and Education is 5. "
   ]
  },
  {
   "cell_type": "code",
   "execution_count": 0,
   "metadata": {
    "application/vnd.databricks.v1+cell": {
     "inputWidgets": {},
     "nuid": "3f2156e3-6b74-40f3-a6ae-3a7a12c48ec9",
     "showTitle": false,
     "title": ""
    }
   },
   "outputs": [
    {
     "data": {
      "text/html": [
       "<style scoped>\n",
       "  .table-result-container {\n",
       "    max-height: 300px;\n",
       "    overflow: auto;\n",
       "  }\n",
       "  table, th, td {\n",
       "    border: 1px solid black;\n",
       "    border-collapse: collapse;\n",
       "  }\n",
       "  th, td {\n",
       "    padding: 5px;\n",
       "  }\n",
       "  th {\n",
       "    text-align: left;\n",
       "  }\n",
       "</style><div class='table-result-container'><table class='table-result'><thead style='background-color: white'><tr><th>EmployeeNumber</th><th>EducationField</th><th>JobRole</th></tr></thead><tbody><tr><td>455</td><td>Other</td><td>Laboratory Technician</td></tr><tr><td>565</td><td>Technical Degree</td><td>Research Scientist</td></tr><tr><td>747</td><td>Marketing</td><td>Sales Executive</td></tr><tr><td>1094</td><td>Life Sciences</td><td>Laboratory Technician</td></tr></tbody></table></div>"
      ]
     },
     "metadata": {
      "application/vnd.databricks.v1+output": {
       "addedWidgets": {},
       "aggData": [],
       "aggError": "",
       "aggOverflow": false,
       "aggSchema": [],
       "aggSeriesLimitReached": false,
       "aggType": "",
       "arguments": {},
       "columnCustomDisplayInfos": {},
       "data": [
        [
         "455",
         "Other",
         "Laboratory Technician"
        ],
        [
         "565",
         "Technical Degree",
         "Research Scientist"
        ],
        [
         "747",
         "Marketing",
         "Sales Executive"
        ],
        [
         "1094",
         "Life Sciences",
         "Laboratory Technician"
        ]
       ],
       "datasetInfos": [],
       "dbfsResultPath": null,
       "isJsonSchema": true,
       "metadata": {},
       "overflow": false,
       "plotOptions": {
        "customPlotOptions": {},
        "displayType": "table",
        "pivotAggregation": null,
        "pivotColumns": null,
        "xColumns": null,
        "yColumns": null
       },
       "removedWidgets": [],
       "schema": [
        {
         "metadata": "{}",
         "name": "EmployeeNumber",
         "type": "\"string\""
        },
        {
         "metadata": "{}",
         "name": "EducationField",
         "type": "\"string\""
        },
        {
         "metadata": "{}",
         "name": "JobRole",
         "type": "\"string\""
        }
       ],
       "type": "table"
      }
     },
     "output_type": "display_data"
    }
   ],
   "source": [
    "df1.sel = df1.filter((df1.Age.between(25,30)) & (df1.Education == 5)).select(df1.EmployeeNumber, df1.EducationField, df1.JobRole)\n",
    "display(df1.sel)"
   ]
  },
  {
   "cell_type": "markdown",
   "metadata": {
    "application/vnd.databricks.v1+cell": {
     "inputWidgets": {},
     "nuid": "351512e0-687b-499b-97d7-7ab6409e3bb0",
     "showTitle": false,
     "title": ""
    }
   },
   "source": [
    "##### For all the women employees having Age between 35 and 40 and TotalWorkingYears < 5, sorting EmployeeNumber in an ascending order. "
   ]
  },
  {
   "cell_type": "code",
   "execution_count": 0,
   "metadata": {
    "application/vnd.databricks.v1+cell": {
     "inputWidgets": {},
     "nuid": "887ded8f-5a1b-4e34-ba57-88e3bea7b661",
     "showTitle": false,
     "title": ""
    }
   },
   "outputs": [
    {
     "data": {
      "text/html": [
       "<style scoped>\n",
       "  .table-result-container {\n",
       "    max-height: 300px;\n",
       "    overflow: auto;\n",
       "  }\n",
       "  table, th, td {\n",
       "    border: 1px solid black;\n",
       "    border-collapse: collapse;\n",
       "  }\n",
       "  th, td {\n",
       "    padding: 5px;\n",
       "  }\n",
       "  th {\n",
       "    text-align: left;\n",
       "  }\n",
       "</style><div class='table-result-container'><table class='table-result'><thead style='background-color: white'><tr><th>EmployeeNumber</th><th>Department</th></tr></thead><tbody><tr><td>49</td><td>Sales</td></tr><tr><td>75</td><td>Research & Development</td></tr><tr><td>245</td><td>Research & Development</td></tr><tr><td>805</td><td>Sales</td></tr><tr><td>1569</td><td>Research & Development</td></tr><tr><td>1662</td><td>Research & Development</td></tr><tr><td>1675</td><td>Research & Development</td></tr><tr><td>1886</td><td>Research & Development</td></tr><tr><td>2052</td><td>Research & Development</td></tr></tbody></table></div>"
      ]
     },
     "metadata": {
      "application/vnd.databricks.v1+output": {
       "addedWidgets": {},
       "aggData": [],
       "aggError": "",
       "aggOverflow": false,
       "aggSchema": [],
       "aggSeriesLimitReached": false,
       "aggType": "",
       "arguments": {},
       "columnCustomDisplayInfos": {},
       "data": [
        [
         "49",
         "Sales"
        ],
        [
         "75",
         "Research & Development"
        ],
        [
         "245",
         "Research & Development"
        ],
        [
         "805",
         "Sales"
        ],
        [
         "1569",
         "Research & Development"
        ],
        [
         "1662",
         "Research & Development"
        ],
        [
         "1675",
         "Research & Development"
        ],
        [
         "1886",
         "Research & Development"
        ],
        [
         "2052",
         "Research & Development"
        ]
       ],
       "datasetInfos": [],
       "dbfsResultPath": null,
       "isJsonSchema": true,
       "metadata": {},
       "overflow": false,
       "plotOptions": {
        "customPlotOptions": {},
        "displayType": "table",
        "pivotAggregation": null,
        "pivotColumns": null,
        "xColumns": null,
        "yColumns": null
       },
       "removedWidgets": [],
       "schema": [
        {
         "metadata": "{}",
         "name": "EmployeeNumber",
         "type": "\"string\""
        },
        {
         "metadata": "{}",
         "name": "Department",
         "type": "\"string\""
        }
       ],
       "type": "table"
      }
     },
     "output_type": "display_data"
    }
   ],
   "source": [
    "df1.sel = df1.filter((df1.Gender == 'Female') & (df1.Age.between(35,40)) & (df1.TotalWorkingYears < 5)).select(df1.EmployeeNumber,df1.Department)\n",
    "\n",
    "display(df1.sel.sort(df1.EmployeeNumber.cast(\"int\").asc()))"
   ]
  },
  {
   "cell_type": "markdown",
   "metadata": {
    "application/vnd.databricks.v1+cell": {
     "inputWidgets": {},
     "nuid": "369f4e4a-f08e-4232-b449-b0224f6614a8",
     "showTitle": false,
     "title": ""
    }
   },
   "source": [
    "#####  Finding employees whose HourlyRate is greater than 100 or DailyRate is greater than 1490. Displaying Age, HourlyRate, DailyRate, and Department only and sorting DailyRate in a descending order."
   ]
  },
  {
   "cell_type": "code",
   "execution_count": 0,
   "metadata": {
    "application/vnd.databricks.v1+cell": {
     "inputWidgets": {},
     "nuid": "6a8810be-d5b5-4e00-9de2-334e55a73fb9",
     "showTitle": false,
     "title": ""
    }
   },
   "outputs": [
    {
     "data": {
      "text/html": [
       "<style scoped>\n",
       "  .table-result-container {\n",
       "    max-height: 300px;\n",
       "    overflow: auto;\n",
       "  }\n",
       "  table, th, td {\n",
       "    border: 1px solid black;\n",
       "    border-collapse: collapse;\n",
       "  }\n",
       "  th, td {\n",
       "    padding: 5px;\n",
       "  }\n",
       "  th {\n",
       "    text-align: left;\n",
       "  }\n",
       "</style><div class='table-result-container'><table class='table-result'><thead style='background-color: white'><tr><th>Age</th><th>HourlyRate</th><th>DailyRate</th><th>DailyRate</th><th>Department</th></tr></thead><tbody><tr><td>60</td><td>80</td><td>1499</td><td>1499</td><td>Sales</td></tr><tr><td>39</td><td>44</td><td>1498</td><td>1498</td><td>Sales</td></tr><tr><td>29</td><td>41</td><td>1496</td><td>1496</td><td>Research & Development</td></tr><tr><td>28</td><td>92</td><td>1496</td><td>1496</td><td>Sales</td></tr><tr><td>38</td><td>76</td><td>1495</td><td>1495</td><td>Research & Development</td></tr><tr><td>49</td><td>96</td><td>1495</td><td>1495</td><td>Research & Development</td></tr><tr><td>38</td><td>87</td><td>1495</td><td>1495</td><td>Research & Development</td></tr><tr><td>40</td><td>61</td><td>1492</td><td>1492</td><td>Research & Development</td></tr></tbody></table></div>"
      ]
     },
     "metadata": {
      "application/vnd.databricks.v1+output": {
       "addedWidgets": {},
       "aggData": [],
       "aggError": "",
       "aggOverflow": false,
       "aggSchema": [],
       "aggSeriesLimitReached": false,
       "aggType": "",
       "arguments": {},
       "columnCustomDisplayInfos": {},
       "data": [
        [
         "60",
         "80",
         "1499",
         "1499",
         "Sales"
        ],
        [
         "39",
         "44",
         "1498",
         "1498",
         "Sales"
        ],
        [
         "29",
         "41",
         "1496",
         "1496",
         "Research & Development"
        ],
        [
         "28",
         "92",
         "1496",
         "1496",
         "Sales"
        ],
        [
         "38",
         "76",
         "1495",
         "1495",
         "Research & Development"
        ],
        [
         "49",
         "96",
         "1495",
         "1495",
         "Research & Development"
        ],
        [
         "38",
         "87",
         "1495",
         "1495",
         "Research & Development"
        ],
        [
         "40",
         "61",
         "1492",
         "1492",
         "Research & Development"
        ]
       ],
       "datasetInfos": [],
       "dbfsResultPath": null,
       "isJsonSchema": true,
       "metadata": {},
       "overflow": false,
       "plotOptions": {
        "customPlotOptions": {},
        "displayType": "table",
        "pivotAggregation": null,
        "pivotColumns": null,
        "xColumns": null,
        "yColumns": null
       },
       "removedWidgets": [],
       "schema": [
        {
         "metadata": "{}",
         "name": "Age",
         "type": "\"string\""
        },
        {
         "metadata": "{}",
         "name": "HourlyRate",
         "type": "\"string\""
        },
        {
         "metadata": "{}",
         "name": "DailyRate",
         "type": "\"string\""
        },
        {
         "metadata": "{}",
         "name": "DailyRate",
         "type": "\"string\""
        },
        {
         "metadata": "{}",
         "name": "Department",
         "type": "\"string\""
        }
       ],
       "type": "table"
      }
     },
     "output_type": "display_data"
    }
   ],
   "source": [
    "df1.sel = df1.filter((df1.HourlyRate > 100) | (df1.DailyRate > 1490 )).select(df1.Age, df1.HourlyRate, df1.DailyRate, df1.DailyRate, df1.Department)\n",
    "display(df1.sel.sort(df1.DailyRate,ascending = False))"
   ]
  },
  {
   "cell_type": "markdown",
   "metadata": {
    "application/vnd.databricks.v1+cell": {
     "inputWidgets": {},
     "nuid": "209e4f6f-1499-4665-8deb-79f4ac0a44e7",
     "showTitle": false,
     "title": ""
    }
   },
   "source": [
    "#####  For each JobRole, finding the average MonthlyIncome. Printing out the formatted monthly incomes in hundredth and arranging them in descending order"
   ]
  },
  {
   "cell_type": "code",
   "execution_count": 0,
   "metadata": {
    "application/vnd.databricks.v1+cell": {
     "inputWidgets": {},
     "nuid": "1c0fc783-488a-4464-99d2-862133ea36c3",
     "showTitle": false,
     "title": ""
    }
   },
   "outputs": [
    {
     "data": {
      "text/html": [
       "<style scoped>\n",
       "  .table-result-container {\n",
       "    max-height: 300px;\n",
       "    overflow: auto;\n",
       "  }\n",
       "  table, th, td {\n",
       "    border: 1px solid black;\n",
       "    border-collapse: collapse;\n",
       "  }\n",
       "  th, td {\n",
       "    padding: 5px;\n",
       "  }\n",
       "  th {\n",
       "    text-align: left;\n",
       "  }\n",
       "</style><div class='table-result-container'><table class='table-result'><thead style='background-color: white'><tr><th>JobRole</th><th>avg_MonthlyIncome</th></tr></thead><tbody><tr><td>Manager</td><td>17181.68</td></tr><tr><td>Research Director</td><td>16033.55</td></tr><tr><td>Healthcare Representative</td><td>7528.76</td></tr><tr><td>Manufacturing Director</td><td>7295.14</td></tr><tr><td>Sales Executive</td><td>6924.28</td></tr><tr><td>Human Resources</td><td>4235.75</td></tr><tr><td>Research Scientist</td><td>3239.97</td></tr><tr><td>Laboratory Technician</td><td>3237.17</td></tr><tr><td>Sales Representative</td><td>2626.0</td></tr></tbody></table></div>"
      ]
     },
     "metadata": {
      "application/vnd.databricks.v1+output": {
       "addedWidgets": {},
       "aggData": [],
       "aggError": "",
       "aggOverflow": false,
       "aggSchema": [],
       "aggSeriesLimitReached": false,
       "aggType": "",
       "arguments": {},
       "columnCustomDisplayInfos": {},
       "data": [
        [
         "Manager",
         17181.68
        ],
        [
         "Research Director",
         16033.55
        ],
        [
         "Healthcare Representative",
         7528.76
        ],
        [
         "Manufacturing Director",
         7295.14
        ],
        [
         "Sales Executive",
         6924.28
        ],
        [
         "Human Resources",
         4235.75
        ],
        [
         "Research Scientist",
         3239.97
        ],
        [
         "Laboratory Technician",
         3237.17
        ],
        [
         "Sales Representative",
         2626
        ]
       ],
       "datasetInfos": [],
       "dbfsResultPath": null,
       "isJsonSchema": true,
       "metadata": {},
       "overflow": false,
       "plotOptions": {
        "customPlotOptions": {},
        "displayType": "plotlyBar",
        "pivotAggregation": null,
        "pivotColumns": null,
        "xColumns": null,
        "yColumns": null
       },
       "removedWidgets": [],
       "schema": [
        {
         "metadata": "{}",
         "name": "JobRole",
         "type": "\"string\""
        },
        {
         "metadata": "{}",
         "name": "avg_MonthlyIncome",
         "type": "\"double\""
        }
       ],
       "type": "table"
      }
     },
     "output_type": "display_data"
    }
   ],
   "source": [
    "from pyspark.sql.functions import avg, round\n",
    "df1_sel = df1.groupBy('JobRole').agg(round(avg('MonthlyIncome'), 2).alias('avg_MonthlyIncome'))\n",
    "display(df1_sel.sort('avg_MonthlyIncome', ascending=False))"
   ]
  },
  {
   "cell_type": "markdown",
   "metadata": {
    "application/vnd.databricks.v1+cell": {
     "inputWidgets": {},
     "nuid": "93bcff31-3da0-454d-b2d7-05a2ea97ed6f",
     "showTitle": false,
     "title": ""
    }
   },
   "source": [
    "#####  Counting the different MaritalStatus when Attrition is Yes and Age is greater than 35 in the dataset. Arranging the count in descending order."
   ]
  },
  {
   "cell_type": "code",
   "execution_count": 0,
   "metadata": {
    "application/vnd.databricks.v1+cell": {
     "inputWidgets": {},
     "nuid": "32eeede6-bb0e-47b8-936e-0def8b81aaff",
     "showTitle": false,
     "title": ""
    }
   },
   "outputs": [
    {
     "data": {
      "text/html": [
       "<style scoped>\n",
       "  .table-result-container {\n",
       "    max-height: 300px;\n",
       "    overflow: auto;\n",
       "  }\n",
       "  table, th, td {\n",
       "    border: 1px solid black;\n",
       "    border-collapse: collapse;\n",
       "  }\n",
       "  th, td {\n",
       "    padding: 5px;\n",
       "  }\n",
       "  th {\n",
       "    text-align: left;\n",
       "  }\n",
       "</style><div class='table-result-container'><table class='table-result'><thead style='background-color: white'><tr><th>MaritalStatus</th><th>count</th></tr></thead><tbody><tr><td>Married</td><td>33</td></tr><tr><td>Single</td><td>30</td></tr><tr><td>Divorced</td><td>14</td></tr></tbody></table></div>"
      ]
     },
     "metadata": {
      "application/vnd.databricks.v1+output": {
       "addedWidgets": {},
       "aggData": [],
       "aggError": "",
       "aggOverflow": false,
       "aggSchema": [],
       "aggSeriesLimitReached": false,
       "aggType": "",
       "arguments": {},
       "columnCustomDisplayInfos": {},
       "data": [
        [
         "Married",
         33
        ],
        [
         "Single",
         30
        ],
        [
         "Divorced",
         14
        ]
       ],
       "datasetInfos": [],
       "dbfsResultPath": null,
       "isJsonSchema": true,
       "metadata": {},
       "overflow": false,
       "plotOptions": {
        "customPlotOptions": {},
        "displayType": "pieChart",
        "pivotAggregation": null,
        "pivotColumns": null,
        "xColumns": null,
        "yColumns": null
       },
       "removedWidgets": [],
       "schema": [
        {
         "metadata": "{}",
         "name": "MaritalStatus",
         "type": "\"string\""
        },
        {
         "metadata": "{}",
         "name": "count",
         "type": "\"long\""
        }
       ],
       "type": "table"
      }
     },
     "output_type": "display_data"
    }
   ],
   "source": [
    "df1.sel = df1.filter((df1.Attrition == 'Yes') & (df1.Age > 35)).groupBy(df1.MaritalStatus).count().sort(\"count\",ascending = False)\n",
    "df1.sel.display()"
   ]
  }
 ],
 "metadata": {
  "application/vnd.databricks.v1+notebook": {
   "dashboards": [],
   "language": "python",
   "notebookMetadata": {
    "pythonIndentUnit": 2
   },
   "notebookName": "AIT-614-004_Lab4_VaishnavirajuEcharluThimmaraju",
   "notebookOrigID": 1526803844918561,
   "widgets": {}
  },
  "kernelspec": {
   "display_name": "Python 3 (ipykernel)",
   "language": "python",
   "name": "python3"
  },
  "language_info": {
   "codemirror_mode": {
    "name": "ipython",
    "version": 3
   },
   "file_extension": ".py",
   "mimetype": "text/x-python",
   "name": "python",
   "nbconvert_exporter": "python",
   "pygments_lexer": "ipython3",
   "version": "3.9.7"
  }
 },
 "nbformat": 4,
 "nbformat_minor": 1
}
